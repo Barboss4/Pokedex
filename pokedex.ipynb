{
  "nbformat": 4,
  "nbformat_minor": 0,
  "metadata": {
    "colab": {
      "provenance": []
    },
    "kernelspec": {
      "name": "python3",
      "display_name": "Python 3"
    },
    "language_info": {
      "name": "python"
    }
  },
  "cells": [
    {
      "cell_type": "code",
      "execution_count": 2,
      "metadata": {
        "id": "ZHuyTVUZaTAa"
      },
      "outputs": [],
      "source": [
        "# Dataset download: https://www.kaggle.com/datasets/rounakbanik/pokemon/data\n",
        "# Dataset download imagem: https://www.kaggle.com/datasets/vishalsubbiah/pokemon-images-and-types?select=pokemon.csv\n",
        "\n",
        "import pandas as pd\n",
        "import os\n",
        "import matplotlib.pyplot as plt\n",
        "\n",
        "caminho_do_arquivo = '/content/pokemon.csv'\n",
        "\n",
        "\n",
        "df_pokemon = pd.read_csv(caminho_do_arquivo)\n"
      ]
    },
    {
      "cell_type": "code",
      "source": [
        "lista_de_titulos = df_pokemon.columns.tolist()\n",
        "lista_de_titulos"
      ],
      "metadata": {
        "id": "JR13IZofce80"
      },
      "execution_count": null,
      "outputs": []
    },
    {
      "cell_type": "code",
      "source": [
        "df = df_pokemon.drop(['abilities',\n",
        " 'against_bug',\n",
        " 'against_dark',\n",
        " 'against_dragon',\n",
        " 'against_electric',\n",
        " 'against_fairy',\n",
        " 'against_fight',\n",
        " 'against_fire',\n",
        " 'against_flying',\n",
        " 'against_ghost',\n",
        " 'against_grass',\n",
        " 'against_ground',\n",
        " 'against_ice',\n",
        " 'against_normal',\n",
        " 'against_poison',\n",
        " 'against_psychic',\n",
        " 'against_rock',\n",
        " 'against_steel',\n",
        " 'against_water',\n",
        " 'attack',\n",
        " 'base_egg_steps',\n",
        " 'base_happiness',\n",
        " 'base_total',\n",
        " 'capture_rate',\n",
        " 'classfication',\n",
        " 'defense',\n",
        " 'experience_growth',\n",
        " 'hp',\n",
        " 'japanese_name',\n",
        " 'sp_attack',\n",
        " 'sp_defense' ,\n",
        " 'speed' ],axis = 1)"
      ],
      "metadata": {
        "id": "cpJkK0BAcsMV"
      },
      "execution_count": 6,
      "outputs": []
    },
    {
      "cell_type": "code",
      "source": [
        "primeira_coluna = df.pop('height_m')\n",
        "df.insert(5, 'height_m', primeira_coluna)\n",
        "\n",
        "df"
      ],
      "metadata": {
        "id": "IrroRCMhcQod"
      },
      "execution_count": null,
      "outputs": []
    },
    {
      "cell_type": "code",
      "source": [
        "class PokemonData:\n",
        "    def __init__(self, dataframe, pasta_imagens=None):\n",
        "        self.dataframe = dataframe\n",
        "        self.pasta_imagens = pasta_imagens\n",
        "\n",
        "    def buscar_informacao(self, coluna, valor):\n",
        "        resultado = self.dataframe[self.dataframe[coluna].str.lower() == valor]\n",
        "        if len(resultado) > 0:\n",
        "            return resultado\n",
        "        else:\n",
        "            return \"Nenhuma informação encontrada para esse valor.\"\n",
        "\n",
        "    def mostrar_imagem(self, nome_imagem):\n",
        "        caminho_imagem = os.path.join(self.pasta_imagens, nome_imagem)\n",
        "        if os.path.exists(caminho_imagem):\n",
        "            img = Image.open(caminho_imagem)\n",
        "            plt.imshow(img)\n",
        "            plt.axis('off')\n",
        "            plt.show()\n",
        "        else:\n",
        "            print(\"Imagem não encontrada.\")\n",
        "\n",
        "\n",
        "# Suponha que você já tenha o DataFrame df_pokemon\n",
        "pokemon_data = PokemonData(df)\n",
        "pasta_imagens = '/content/imagens'\n",
        "pokemon_data = PokemonData(df, pasta_imagens)\n",
        "\n",
        "# Exemplo de busca de informações pelo nome do Pokémon\n",
        "nome_do_pokemon = input(\"Digite o nome do Pokémon que deseja buscar: \").lower()\n",
        "informacoes = pokemon_data.buscar_informacao('name', nome_do_pokemon)\n",
        "print(informacoes)\n",
        "\n",
        "# Mostrar a imagem do Pokémon\n",
        "if informacoes is not None:\n",
        "    nome_imagem = informacoes['name'].values[0].lower() + '.png'\n",
        "    pokemon_data.mostrar_imagem(nome_imagem)\n",
        "pass"
      ],
      "metadata": {
        "id": "m0i7Qk-Jeu_E"
      },
      "execution_count": null,
      "outputs": []
    }
  ]
}